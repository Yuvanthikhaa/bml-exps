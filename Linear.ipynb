{
 "cells": [
  {
   "cell_type": "markdown",
   "id": "019bf9b8",
   "metadata": {},
   "source": [
    "# Linear Regression using car dataset"
   ]
  },
  {
   "cell_type": "markdown",
   "id": "7ec708af",
   "metadata": {},
   "source": [
    "# Dataset Features:\n",
    "Car brand\n",
    "year\n",
    "sold price\n",
    "present price\n",
    "KMS driven\n",
    "Fuel type\n",
    "Seller type\n",
    "Transmission type\n",
    "Owners\n",
    "\n",
    "# Workflow\n",
    "\n",
    "Data collection\n",
    "Data Preprocessing\n",
    "Train test split\n",
    "Linear Regression model\n",
    "Prediction"
   ]
  },
  {
   "cell_type": "code",
   "execution_count": 5,
   "id": "0ebe1680",
   "metadata": {},
   "outputs": [
    {
     "name": "stdout",
     "output_type": "stream",
     "text": [
      "Collecting sklearn.model\n",
      "  Downloading sklearn_model-0.0.6-py3-none-any.whl (6.6 kB)\n",
      "Requirement already satisfied: scikit-learn>=0.22 in c:\\users\\aishw\\anaconda3\\lib\\site-packages (from sklearn.model) (1.0.2)\n",
      "Requirement already satisfied: pandas in c:\\users\\aishw\\anaconda3\\lib\\site-packages (from sklearn.model) (1.4.2)\n",
      "Requirement already satisfied: numpy>=1.14.6 in c:\\users\\aishw\\anaconda3\\lib\\site-packages (from scikit-learn>=0.22->sklearn.model) (1.21.5)\n",
      "Requirement already satisfied: threadpoolctl>=2.0.0 in c:\\users\\aishw\\anaconda3\\lib\\site-packages (from scikit-learn>=0.22->sklearn.model) (2.2.0)\n",
      "Requirement already satisfied: scipy>=1.1.0 in c:\\users\\aishw\\anaconda3\\lib\\site-packages (from scikit-learn>=0.22->sklearn.model) (1.7.3)\n",
      "Requirement already satisfied: joblib>=0.11 in c:\\users\\aishw\\anaconda3\\lib\\site-packages (from scikit-learn>=0.22->sklearn.model) (1.1.0)\n",
      "Requirement already satisfied: pytz>=2020.1 in c:\\users\\aishw\\anaconda3\\lib\\site-packages (from pandas->sklearn.model) (2021.3)\n",
      "Requirement already satisfied: python-dateutil>=2.8.1 in c:\\users\\aishw\\anaconda3\\lib\\site-packages (from pandas->sklearn.model) (2.8.2)\n",
      "Requirement already satisfied: six>=1.5 in c:\\users\\aishw\\anaconda3\\lib\\site-packages (from python-dateutil>=2.8.1->pandas->sklearn.model) (1.16.0)\n",
      "Installing collected packages: sklearn.model\n",
      "Successfully installed sklearn.model-0.0.6\n"
     ]
    }
   ],
   "source": [
    "!pip install sklearn.model"
   ]
  },
  {
   "cell_type": "code",
   "execution_count": 7,
   "id": "ba1102d1",
   "metadata": {},
   "outputs": [],
   "source": [
    "# Import a required libraries\n",
    "import numpy as np\n",
    "import pandas as pd\n"
   ]
  },
  {
   "cell_type": "code",
   "execution_count": null,
   "id": "a9319f3a",
   "metadata": {},
   "outputs": [],
   "source": []
  },
  {
   "cell_type": "code",
   "execution_count": null,
   "id": "4a3eadea",
   "metadata": {},
   "outputs": [],
   "source": []
  }
 ],
 "metadata": {
  "kernelspec": {
   "display_name": "Python 3 (ipykernel)",
   "language": "python",
   "name": "python3"
  },
  "language_info": {
   "codemirror_mode": {
    "name": "ipython",
    "version": 3
   },
   "file_extension": ".py",
   "mimetype": "text/x-python",
   "name": "python",
   "nbconvert_exporter": "python",
   "pygments_lexer": "ipython3",
   "version": "3.9.12"
  }
 },
 "nbformat": 4,
 "nbformat_minor": 5
}
